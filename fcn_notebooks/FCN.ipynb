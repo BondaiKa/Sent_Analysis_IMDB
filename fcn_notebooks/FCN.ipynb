{
  "cells": [
    {
      "cell_type": "markdown",
      "metadata": {
        "id": "T7Tam1pcSa5H"
      },
      "source": [
        "### Import"
      ]
    },
    {
      "cell_type": "markdown",
      "source": [
        ""
      ],
      "metadata": {
        "id": "Irq3LXuj_MJG"
      }
    },
    {
      "cell_type": "code",
      "execution_count": 1,
      "metadata": {
        "id": "Spbp5_AcSRli"
      },
      "outputs": [],
      "source": [
        "%matplotlib inline\n",
        "import matplotlib\n",
        "import matplotlib.pyplot as plt\n",
        "import numpy as np\n",
        "import pandas as pd\n",
        "from keras import models\n",
        "from keras import layers\n",
        "import keras\n",
        "from sklearn.metrics import accuracy_score, confusion_matrix\n",
        "import seaborn as sb\n",
        "import tensorflow as tf"
      ]
    },
    {
      "cell_type": "markdown",
      "metadata": {
        "id": "BhB4em73TDw1"
      },
      "source": [
        "### Data"
      ]
    },
    {
      "cell_type": "markdown",
      "metadata": {
        "id": "i2zFbRSYS57L"
      },
      "source": [
        "Let's load the IMDb dataset, which is already built into Keras. Since we do not want to have training and testing data in a 50/50 proportion, we will combine this data after loading for division in an 80/20 proportion.\n",
        "\n",
        "The dataset is represented as 50,000 movie reviews, marked as 1 or 0 for positive or negative, respectively. The words in the dataset are numbered by the frequency of occurrence in the test set, the num_words parameter of the imdb.load_data function allows you to select the cutoff frequency."
      ]
    },
    {
      "cell_type": "code",
      "execution_count": 2,
      "metadata": {
        "id": "uM4GQsaiSuOv"
      },
      "outputs": [],
      "source": [
        "data_num = 10000"
      ]
    },
    {
      "cell_type": "code",
      "execution_count": 3,
      "metadata": {
        "id": "f0NgHotWUsmV"
      },
      "outputs": [],
      "source": [
        "from keras.datasets import imdb\n",
        "\n",
        "(training_data, training_targets), (testing_data, testing_targets) = imdb.load_data(num_words=data_num)\n",
        "data = np.concatenate((training_data, testing_data), axis=0)\n",
        "targets = np.concatenate((training_targets, testing_targets), axis=0)"
      ]
    },
    {
      "cell_type": "code",
      "execution_count": 4,
      "metadata": {
        "colab": {
          "base_uri": "https://localhost:8080/"
        },
        "id": "AdDqJY-1U7xm",
        "outputId": "e2c80d58-2d15-444a-fcb1-36b94b8246e9"
      },
      "outputs": [
        {
          "output_type": "execute_result",
          "data": {
            "text/plain": [
              "(50000,)"
            ]
          },
          "metadata": {},
          "execution_count": 4
        }
      ],
      "source": [
        "data.shape"
      ]
    },
    {
      "cell_type": "markdown",
      "metadata": {
        "id": "ORbkp9Lcc2gz"
      },
      "source": [
        "### Data preparation"
      ]
    },
    {
      "cell_type": "markdown",
      "metadata": {
        "id": "jHw8UUkvdvpM"
      },
      "source": [
        "For data preparation we need to vectorize each review and fill it with zeros so that the vector contains exactly 10,000 numbers. This means that we fill in every overview that is shorter than 10,000 words with zeros, because the dictionary contains approximately that number of words. It is also needed to convert the variables to float type."
      ]
    },
    {
      "cell_type": "code",
      "execution_count": 5,
      "metadata": {
        "id": "vhUxgAilY9R-"
      },
      "outputs": [],
      "source": [
        "def vectorize(sequences, dimension):\n",
        " results = np.zeros((len(sequences), dimension))\n",
        " for i, sequence in enumerate(sequences):\n",
        "  results[i, sequence] = 1\n",
        " return results"
      ]
    },
    {
      "cell_type": "code",
      "execution_count": 6,
      "metadata": {
        "id": "ftlB9MeLeGY9"
      },
      "outputs": [],
      "source": [
        "data_vec = vectorize(data, 10000)\n",
        "targets = np.array(targets).astype(\"float32\")"
      ]
    },
    {
      "cell_type": "markdown",
      "metadata": {
        "id": "L2xpnQEMevwj"
      },
      "source": [
        "Let's divide the dataset into training and testing sets. The training set will consist of 40,000 reviews, and the test set will contain 10,000."
      ]
    },
    {
      "cell_type": "code",
      "execution_count": 7,
      "metadata": {
        "id": "sAe98J3zeKPV"
      },
      "outputs": [],
      "source": [
        "test_x = data_vec[:10000]\n",
        "test_y = targets[:10000]\n",
        "train_x = data_vec[10000:50000]\n",
        "train_y = targets[10000:50000]\n"
      ]
    },
    {
      "cell_type": "markdown",
      "metadata": {
        "id": "dNQDkye1e5p6"
      },
      "source": [
        "### Model creation and training"
      ]
    },
    {
      "cell_type": "markdown",
      "metadata": {
        "id": "Q1HocWKcfTB6"
      },
      "source": [
        "Now we can create a simple neural network. Let's start by defining the type of model we want to create. There are two types of models available in Keras: sequential and functional API. Then we need to add input, hidden and output layers. To prevent overfitting, we will use dropout in the range from 20% to 50%. We use the “relu” activation function, because this almost always leads to satisfactory results. On the output layer, we use a sigmoid function that renormalizes values ​​in the range from 0 to 1. The input layer accepts elements with a size of 10,000, and outputs them with a size of 50."
      ]
    },
    {
      "cell_type": "code",
      "execution_count": null,
      "metadata": {
        "id": "-7AzWKZpe19w"
      },
      "outputs": [],
      "source": [
        "model_1 = models.Sequential()"
      ]
    },
    {
      "cell_type": "code",
      "execution_count": null,
      "metadata": {
        "colab": {
          "base_uri": "https://localhost:8080/"
        },
        "id": "JXXoKT_dfxSr",
        "outputId": "9d49b69b-9f9b-464e-f432-56f874518a40"
      },
      "outputs": [
        {
          "output_type": "stream",
          "name": "stdout",
          "text": [
            "Model: \"sequential\"\n",
            "_________________________________________________________________\n",
            " Layer (type)                Output Shape              Param #   \n",
            "=================================================================\n",
            " dense (Dense)               (None, 64)                640064    \n",
            "                                                                 \n",
            " dense_1 (Dense)             (None, 32)                2080      \n",
            "                                                                 \n",
            " dense_2 (Dense)             (None, 1)                 33        \n",
            "                                                                 \n",
            "=================================================================\n",
            "Total params: 642,177\n",
            "Trainable params: 642,177\n",
            "Non-trainable params: 0\n",
            "_________________________________________________________________\n"
          ]
        }
      ],
      "source": [
        "# Input - Layer\n",
        "model_1.add(layers.Dense(64, activation = \"relu\", input_shape=(10000, )))\n",
        "model_1.add(layers.Dense(32, activation = \"relu\"))\n",
        "# Output- Layer\n",
        "model_1.add(layers.Dense(1, activation = \"sigmoid\"))\n",
        "model_1.summary()"
      ]
    },
    {
      "cell_type": "code",
      "execution_count": null,
      "metadata": {
        "id": "HtJLUAmYf0ud"
      },
      "outputs": [],
      "source": [
        "model_1.compile(\n",
        " optimizer = \"adam\",\n",
        " loss = \"binary_crossentropy\",\n",
        " metrics = [\"accuracy\"]\n",
        ")"
      ]
    },
    {
      "cell_type": "code",
      "source": [
        "early_stop_val_loss_callback = tf.keras.callbacks.EarlyStopping(patience=5,monitor='val_loss')\n",
        "reduce_lr_callback_depends_on_val_loss = tf.keras.callbacks.ReduceLROnPlateau(\n",
        "    monitor='val_loss', factor=0.5, patience=2, verbose=1, mode='auto',\n",
        "    min_delta=0.0001, cooldown=0, min_lr=0.00001)"
      ],
      "metadata": {
        "id": "glqmLAVuIieG"
      },
      "execution_count": 8,
      "outputs": []
    },
    {
      "cell_type": "code",
      "execution_count": null,
      "metadata": {
        "id": "D4tZU6f_f3Hp",
        "colab": {
          "base_uri": "https://localhost:8080/"
        },
        "outputId": "5d21cd66-d11c-4ae0-cd65-650650e0a7a0"
      },
      "outputs": [
        {
          "output_type": "stream",
          "name": "stdout",
          "text": [
            "Epoch 1/10\n",
            "1000/1000 [==============================] - 6s 5ms/step - loss: 0.3136 - accuracy: 0.8676 - val_loss: 0.2535 - val_accuracy: 0.9005 - lr: 0.0010\n",
            "Epoch 2/10\n",
            "1000/1000 [==============================] - 4s 4ms/step - loss: 0.1753 - accuracy: 0.9301 - val_loss: 0.2842 - val_accuracy: 0.8832 - lr: 0.0010\n",
            "Epoch 3/10\n",
            "1000/1000 [==============================] - ETA: 0s - loss: 0.0837 - accuracy: 0.9690\n",
            "Epoch 00003: ReduceLROnPlateau reducing learning rate to 0.0005000000237487257.\n",
            "1000/1000 [==============================] - 4s 4ms/step - loss: 0.0837 - accuracy: 0.9690 - val_loss: 0.3872 - val_accuracy: 0.8874 - lr: 0.0010\n",
            "Epoch 4/10\n",
            "1000/1000 [==============================] - 4s 4ms/step - loss: 0.0188 - accuracy: 0.9947 - val_loss: 0.4918 - val_accuracy: 0.8911 - lr: 5.0000e-04\n",
            "Epoch 5/10\n",
            " 987/1000 [============================>.] - ETA: 0s - loss: 0.0041 - accuracy: 0.9991\n",
            "Epoch 00005: ReduceLROnPlateau reducing learning rate to 0.0002500000118743628.\n",
            "1000/1000 [==============================] - 4s 4ms/step - loss: 0.0041 - accuracy: 0.9990 - val_loss: 0.6006 - val_accuracy: 0.8890 - lr: 5.0000e-04\n",
            "Epoch 6/10\n",
            "1000/1000 [==============================] - 4s 4ms/step - loss: 0.0011 - accuracy: 0.9999 - val_loss: 0.6796 - val_accuracy: 0.8892 - lr: 2.5000e-04\n"
          ]
        }
      ],
      "source": [
        "results = model_1.fit(\n",
        " train_x, train_y,\n",
        " epochs=10,\n",
        " batch_size = 32,\n",
        " validation_split = 0.2,\n",
        " callbacks = [early_stop_val_loss_callback,\n",
        "            reduce_lr_callback_depends_on_val_loss])"
      ]
    },
    {
      "cell_type": "code",
      "execution_count": null,
      "metadata": {
        "id": "9tPx-5Aef5Bj",
        "colab": {
          "base_uri": "https://localhost:8080/"
        },
        "outputId": "f05a073f-0e9b-4651-843b-824b2f33c864"
      },
      "outputs": [
        {
          "output_type": "stream",
          "name": "stdout",
          "text": [
            "313/313 [==============================] - 3s 8ms/step - loss: 0.7329 - accuracy: 0.8811\n"
          ]
        },
        {
          "output_type": "execute_result",
          "data": {
            "text/plain": [
              "[0.7329350709915161, 0.8810999989509583]"
            ]
          },
          "metadata": {},
          "execution_count": 30
        }
      ],
      "source": [
        "model_1.evaluate(test_x, test_y)"
      ]
    },
    {
      "cell_type": "code",
      "source": [
        "def plot_history(history):\n",
        "  fig, (axis1, axis2) = plt.subplots(nrows=1, ncols=2, figsize=(16,6))\n",
        "  \n",
        "  # summarize history for accuracy\n",
        "  axis1.plot(history.history['accuracy'], label='Train', linewidth=3)\n",
        "  axis1.plot(history.history['val_accuracy'], label='Validation', linewidth=3)\n",
        "  axis1.set_title('Model accuracy', fontsize=16)\n",
        "  axis1.set_ylabel('accuracy')\n",
        "  axis1.set_xlabel('epoch')\n",
        "  axis1.legend(loc='upper left')\n",
        "  \n",
        "  # summarize history for loss\n",
        "  axis2.plot(history.history['loss'], label='Train', linewidth=3)\n",
        "  axis2.plot(history.history['val_loss'], label='Validation', linewidth=3)\n",
        "  axis2.set_title('Model loss', fontsize=16)\n",
        "  axis2.set_ylabel('loss')\n",
        "  axis2.set_xlabel('epoch')\n",
        "  axis2.legend(loc='upper right')\n",
        "  plt.show()"
      ],
      "metadata": {
        "id": "iOI9OzHe-KR8"
      },
      "execution_count": 9,
      "outputs": []
    },
    {
      "cell_type": "code",
      "source": [
        "plot_history(results)"
      ],
      "metadata": {
        "colab": {
          "base_uri": "https://localhost:8080/",
          "height": 406
        },
        "id": "habzW-T798zh",
        "outputId": "c29c8f90-fac4-4a5f-aebf-8b188734a4fb"
      },
      "execution_count": null,
      "outputs": [
        {
          "output_type": "display_data",
          "data": {
            "image/png": "[encoded data removed]",
            "text/plain": [
              "<Figure size 1152x432 with 2 Axes>"
            ]
          },
          "metadata": {
            "needs_background": "light"
          }
        }
      ]
    },
    {
      "cell_type": "markdown",
      "source": [
        "### Confusion_matrix"
      ],
      "metadata": {
        "id": "8um_bNpDcZQy"
      }
    },
    {
      "cell_type": "code",
      "source": [
        "def plot_confusion_matrix(y_true, y_pred, ax, class_names, title='Confusion matrix'):\n",
        "    matrix = confusion_matrix(y_true,y_pred)\n",
        "    matrix = matrix.astype('float') / matrix.sum(axis=1)[:, np.newaxis]\n",
        "    sb.heatmap(matrix, annot=True, square=True, ax=ax,\n",
        "               cmap=plt.cm.Blues_r, cbar=False, linecolor='black',\n",
        "               linewidths=1, xticklabels=class_names)\n",
        "    ax.set_title(title, y=1.20, fontsize=10)\n",
        "    ax.set_ylabel('True labels', fontsize=12)\n",
        "    ax.set_xlabel('Predicted labels', y=1.10, fontsize=12)\n",
        "    ax.set_yticklabels(class_names, rotation=0)"
      ],
      "metadata": {
        "id": "a7LshCjzCQgz"
      },
      "execution_count": null,
      "outputs": []
    },
    {
      "cell_type": "code",
      "source": [
        "y_train_pred = model_1.predict(train_x)\n",
        "y_train_pred_bin = [1 if i > 0.5 else 0 for i in y_train_pred]\n",
        "y_test_pred = model_1.predict(test_x)\n",
        "y_test_pred_bin = [1 if i > 0.5 else 0 for i in y_test_pred]\n",
        "fig, (axis1, axis2) = plt.subplots(nrows=1, ncols=2, figsize = (15, 15))\n",
        "plot_confusion_matrix(train_y, y_train_pred_bin, ax=axis1,\n",
        "                      title='Confusion matrix (train data)',\n",
        "                      class_names=['Positive', 'Negative'])\n",
        "plot_confusion_matrix(test_y, y_test_pred_bin, ax=axis2,\n",
        "                      title='Confusion matrix (test data)',\n",
        "                      class_names=['Positive', 'Negative'])"
      ],
      "metadata": {
        "colab": {
          "base_uri": "https://localhost:8080/",
          "height": 459
        },
        "id": "w6crM7Dn7yXW",
        "outputId": "97940b66-4b41-4573-9157-2ced3de7ec68"
      },
      "execution_count": null,
      "outputs": [
        {
          "output_type": "display_data",
          "data": {
            "image/png": "[encoded data removed]",
            "text/plain": [
              "<Figure size 1080x1080 with 2 Axes>"
            ]
          },
          "metadata": {
            "needs_background": "light"
          }
        }
      ]
    },
    {
      "cell_type": "code",
      "source": [
        ""
      ],
      "metadata": {
        "id": "rwK2Jn1gUn_V"
      },
      "execution_count": null,
      "outputs": []
    },
    {
      "cell_type": "markdown",
      "metadata": {
        "id": "Zyo-458rzujz"
      },
      "source": [
        "### Model 2"
      ]
    },
    {
      "cell_type": "code",
      "execution_count": 19,
      "metadata": {
        "id": "zfldiSSrzzTW"
      },
      "outputs": [],
      "source": [
        "model_2 = models.Sequential()"
      ]
    },
    {
      "cell_type": "code",
      "execution_count": 20,
      "metadata": {
        "id": "ehPA7066zrGW",
        "colab": {
          "base_uri": "https://localhost:8080/"
        },
        "outputId": "d7feb930-eec2-446f-9d71-936d1097998b"
      },
      "outputs": [
        {
          "output_type": "stream",
          "name": "stdout",
          "text": [
            "Model: \"sequential_1\"\n",
            "_________________________________________________________________\n",
            " Layer (type)                Output Shape              Param #   \n",
            "=================================================================\n",
            " dense_4 (Dense)             (None, 64)                640064    \n",
            "                                                                 \n",
            " dropout_3 (Dropout)         (None, 64)                0         \n",
            "                                                                 \n",
            " dense_5 (Dense)             (None, 32)                2080      \n",
            "                                                                 \n",
            " dropout_4 (Dropout)         (None, 32)                0         \n",
            "                                                                 \n",
            " dense_6 (Dense)             (None, 16)                528       \n",
            "                                                                 \n",
            " dropout_5 (Dropout)         (None, 16)                0         \n",
            "                                                                 \n",
            " dense_7 (Dense)             (None, 1)                 17        \n",
            "                                                                 \n",
            "=================================================================\n",
            "Total params: 642,689\n",
            "Trainable params: 642,689\n",
            "Non-trainable params: 0\n",
            "_________________________________________________________________\n"
          ]
        }
      ],
      "source": [
        "# Input - Layer\n",
        "model_2.add(layers.Dense(64, activation = \"relu\", input_shape=(10000, )))\n",
        "# Hidden - Layers\n",
        "model_2.add(layers.Dropout(0.2, noise_shape=None, seed=None))\n",
        "model_2.add(layers.Dense(32, activation = \"relu\"))\n",
        "model_2.add(layers.Dropout(0.2, noise_shape=None, seed=None))\n",
        "model_2.add(layers.Dense(16, activation = \"relu\"))\n",
        "model_2.add(layers.Dropout(0.4, noise_shape=None, seed=None))\n",
        "# Output- Layer\n",
        "model_2.add(layers.Dense(1, activation = \"sigmoid\"))\n",
        "model_2.summary()"
      ]
    },
    {
      "cell_type": "code",
      "execution_count": null,
      "metadata": {
        "id": "ZtlIQQae0CfB"
      },
      "outputs": [],
      "source": [
        "model_2.compile(\n",
        " optimizer = \"adam\",\n",
        " loss = \"binary_crossentropy\",\n",
        " metrics = [\"accuracy\"]\n",
        ")"
      ]
    },
    {
      "cell_type": "code",
      "execution_count": null,
      "metadata": {
        "colab": {
          "base_uri": "https://localhost:8080/"
        },
        "id": "EUqzFouT0F2h",
        "outputId": "093c6882-8997-4f22-cf03-8cb90c3a4675"
      },
      "outputs": [
        {
          "output_type": "stream",
          "name": "stdout",
          "text": [
            "Epoch 1/10\n",
            "1000/1000 [==============================] - 5s 5ms/step - loss: 0.3569 - accuracy: 0.8508 - val_loss: 0.2712 - val_accuracy: 0.8891 - lr: 0.0010\n",
            "Epoch 2/10\n",
            "1000/1000 [==============================] - 8s 8ms/step - loss: 0.2144 - accuracy: 0.9194 - val_loss: 0.2712 - val_accuracy: 0.8935 - lr: 0.0010\n",
            "Epoch 3/10\n",
            " 998/1000 [============================>.] - ETA: 0s - loss: 0.1447 - accuracy: 0.9483\n",
            "Epoch 00003: ReduceLROnPlateau reducing learning rate to 0.0005000000237487257.\n",
            "1000/1000 [==============================] - 5s 5ms/step - loss: 0.1448 - accuracy: 0.9482 - val_loss: 0.2963 - val_accuracy: 0.8901 - lr: 0.0010\n",
            "Epoch 4/10\n",
            "1000/1000 [==============================] - 5s 5ms/step - loss: 0.0718 - accuracy: 0.9782 - val_loss: 0.4430 - val_accuracy: 0.8904 - lr: 5.0000e-04\n",
            "Epoch 5/10\n",
            " 990/1000 [============================>.] - ETA: 0s - loss: 0.0413 - accuracy: 0.9880\n",
            "Epoch 00005: ReduceLROnPlateau reducing learning rate to 0.0002500000118743628.\n",
            "1000/1000 [==============================] - 5s 5ms/step - loss: 0.0417 - accuracy: 0.9878 - val_loss: 0.5253 - val_accuracy: 0.8903 - lr: 5.0000e-04\n",
            "Epoch 6/10\n",
            "1000/1000 [==============================] - 5s 5ms/step - loss: 0.0239 - accuracy: 0.9936 - val_loss: 0.6379 - val_accuracy: 0.8916 - lr: 2.5000e-04\n"
          ]
        }
      ],
      "source": [
        "results = model_2.fit(\n",
        " train_x, train_y,\n",
        " epochs=10,\n",
        " batch_size = 32,\n",
        " validation_split = 0.2,\n",
        " callbacks = [early_stop_val_loss_callback,\n",
        "              reduce_lr_callback_depends_on_val_loss]\n",
        "      )"
      ]
    },
    {
      "cell_type": "code",
      "execution_count": null,
      "metadata": {
        "colab": {
          "base_uri": "https://localhost:8080/"
        },
        "id": "o0zEG_Lb0pQ-",
        "outputId": "91b504d6-d2f8-462b-bbe4-3767e202f8bc"
      },
      "outputs": [
        {
          "output_type": "stream",
          "name": "stdout",
          "text": [
            "313/313 [==============================] - 1s 4ms/step - loss: 0.6997 - accuracy: 0.8841\n"
          ]
        },
        {
          "output_type": "execute_result",
          "data": {
            "text/plain": [
              "[0.6997092366218567, 0.8841000199317932]"
            ]
          },
          "metadata": {},
          "execution_count": 39
        }
      ],
      "source": [
        "model_2.evaluate(test_x, test_y)"
      ]
    },
    {
      "cell_type": "code",
      "source": [
        "plot_history(results)"
      ],
      "metadata": {
        "colab": {
          "base_uri": "https://localhost:8080/",
          "height": 406
        },
        "id": "buhbXtML5HDr",
        "outputId": "bf42f408-c404-4da2-89f5-be3af51ab922"
      },
      "execution_count": null,
      "outputs": [
        {
          "output_type": "display_data",
          "data": {
            "image/png": "[encoded data removed]",
            "text/plain": [
              "<Figure size 1152x432 with 2 Axes>"
            ]
          },
          "metadata": {
            "needs_background": "light"
          }
        }
      ]
    },
    {
      "cell_type": "markdown",
      "source": [
        "### Confusion_matrix"
      ],
      "metadata": {
        "id": "pfxbavTtymAs"
      }
    },
    {
      "cell_type": "code",
      "source": [
        "y_train_pred = model_2.predict(train_x)\n",
        "y_train_pred_bin = [1 if i > 0.5 else 0 for i in y_train_pred]\n",
        "y_test_pred = model_2.predict(test_x)\n",
        "y_test_pred_bin = [1 if i > 0.5 else 0 for i in y_test_pred]\n",
        "fig, (axis1, axis2) = plt.subplots(nrows=1, ncols=2, figsize = (15, 15))\n",
        "plot_confusion_matrix(train_y, y_train_pred_bin, ax=axis1,\n",
        "                      title='Confusion matrix (train data)',\n",
        "                      class_names=['Positive', 'Negative'])\n",
        "plot_confusion_matrix(test_y, y_test_pred_bin, ax=axis2,\n",
        "                      title='Confusion matrix (test data)',\n",
        "                      class_names=['Positive', 'Negative'])"
      ],
      "metadata": {
        "colab": {
          "base_uri": "https://localhost:8080/",
          "height": 459
        },
        "id": "hHGv12mnL5kR",
        "outputId": "899c8aff-c615-4dc9-c3fe-ccf87dde46ce"
      },
      "execution_count": null,
      "outputs": [
        {
          "output_type": "display_data",
          "data": {
            "image/png": "[encoded data removed]",
            "text/plain": [
              "<Figure size 1080x1080 with 2 Axes>"
            ]
          },
          "metadata": {
            "needs_background": "light"
          }
        }
      ]
    },
    {
      "cell_type": "markdown",
      "source": [
        "Optimizer = SGD"
      ],
      "metadata": {
        "id": "URhRwoCICXLH"
      }
    },
    {
      "cell_type": "code",
      "source": [
        "model_2.compile(\n",
        " optimizer = \"SGD\",\n",
        " loss = \"binary_crossentropy\",\n",
        " metrics = [\"accuracy\"]\n",
        ")"
      ],
      "metadata": {
        "id": "aHM4ElpcCZct"
      },
      "execution_count": null,
      "outputs": []
    },
    {
      "cell_type": "code",
      "source": [
        "results = model_2.fit(\n",
        " train_x, train_y,\n",
        " epochs=10,\n",
        " batch_size = 32,\n",
        " validation_split = 0.2,\n",
        " callbacks = [early_stop_val_loss_callback,\n",
        "              reduce_lr_callback_depends_on_val_loss]\n",
        "      )"
      ],
      "metadata": {
        "colab": {
          "base_uri": "https://localhost:8080/"
        },
        "id": "1ahxeucZCZgZ",
        "outputId": "4774070c-b710-44ab-d6a4-b36f69c9e6a8"
      },
      "execution_count": null,
      "outputs": [
        {
          "output_type": "stream",
          "name": "stdout",
          "text": [
            "Epoch 1/10\n",
            "1000/1000 [==============================] - 6s 5ms/step - loss: 0.5992 - accuracy: 0.6722 - val_loss: 0.4092 - val_accuracy: 0.8446 - lr: 0.0100\n",
            "Epoch 2/10\n",
            "1000/1000 [==============================] - 7s 7ms/step - loss: 0.4067 - accuracy: 0.8309 - val_loss: 0.3003 - val_accuracy: 0.8832 - lr: 0.0100\n",
            "Epoch 3/10\n",
            "1000/1000 [==============================] - 6s 6ms/step - loss: 0.3399 - accuracy: 0.8721 - val_loss: 0.2711 - val_accuracy: 0.8909 - lr: 0.0100\n",
            "Epoch 4/10\n",
            "1000/1000 [==============================] - 5s 5ms/step - loss: 0.2964 - accuracy: 0.8898 - val_loss: 0.2645 - val_accuracy: 0.8942 - lr: 0.0100\n",
            "Epoch 5/10\n",
            "1000/1000 [==============================] - 5s 5ms/step - loss: 0.2620 - accuracy: 0.9062 - val_loss: 0.2581 - val_accuracy: 0.8946 - lr: 0.0100\n",
            "Epoch 6/10\n",
            "1000/1000 [==============================] - 4s 4ms/step - loss: 0.2381 - accuracy: 0.9162 - val_loss: 0.2726 - val_accuracy: 0.8869 - lr: 0.0100\n",
            "Epoch 7/10\n",
            " 988/1000 [============================>.] - ETA: 0s - loss: 0.2155 - accuracy: 0.9259\n",
            "Epoch 00007: ReduceLROnPlateau reducing learning rate to 0.004999999888241291.\n",
            "1000/1000 [==============================] - 4s 4ms/step - loss: 0.2159 - accuracy: 0.9256 - val_loss: 0.2617 - val_accuracy: 0.8965 - lr: 0.0100\n",
            "Epoch 8/10\n",
            "1000/1000 [==============================] - 4s 4ms/step - loss: 0.1803 - accuracy: 0.9427 - val_loss: 0.2676 - val_accuracy: 0.8957 - lr: 0.0050\n",
            "Epoch 9/10\n",
            " 993/1000 [============================>.] - ETA: 0s - loss: 0.1651 - accuracy: 0.9479\n",
            "Epoch 00009: ReduceLROnPlateau reducing learning rate to 0.0024999999441206455.\n",
            "1000/1000 [==============================] - 4s 4ms/step - loss: 0.1649 - accuracy: 0.9478 - val_loss: 0.2818 - val_accuracy: 0.8950 - lr: 0.0050\n",
            "Epoch 10/10\n",
            "1000/1000 [==============================] - 4s 4ms/step - loss: 0.1428 - accuracy: 0.9570 - val_loss: 0.2754 - val_accuracy: 0.8941 - lr: 0.0025\n"
          ]
        }
      ]
    },
    {
      "cell_type": "code",
      "source": [
        "model_2.evaluate(test_x, test_y)"
      ],
      "metadata": {
        "colab": {
          "base_uri": "https://localhost:8080/"
        },
        "id": "bUCgsUcHMQRL",
        "outputId": "e393a0f8-a988-4653-c114-92237c3d7344"
      },
      "execution_count": null,
      "outputs": [
        {
          "output_type": "stream",
          "name": "stdout",
          "text": [
            "313/313 [==============================] - 1s 4ms/step - loss: 0.2963 - accuracy: 0.8902\n"
          ]
        },
        {
          "output_type": "execute_result",
          "data": {
            "text/plain": [
              "[0.29627159237861633, 0.8902000188827515]"
            ]
          },
          "metadata": {},
          "execution_count": 54
        }
      ]
    },
    {
      "cell_type": "markdown",
      "source": [
        "RMS prop"
      ],
      "metadata": {
        "id": "YXwQMjWbDi3y"
      }
    },
    {
      "cell_type": "code",
      "source": [
        "model_2.compile(\n",
        " optimizer = \"RMSprop\",\n",
        " loss = \"binary_crossentropy\",\n",
        " metrics = [\"accuracy\"]\n",
        ")"
      ],
      "metadata": {
        "id": "MmvF8KFHDhwi"
      },
      "execution_count": null,
      "outputs": []
    },
    {
      "cell_type": "code",
      "source": [
        "results = model_2.fit(\n",
        " train_x, train_y,\n",
        " epochs=10,\n",
        " batch_size = 32,\n",
        " validation_split = 0.2,\n",
        " callbacks = [early_stop_val_loss_callback,\n",
        "              reduce_lr_callback_depends_on_val_loss]\n",
        "      )"
      ],
      "metadata": {
        "colab": {
          "base_uri": "https://localhost:8080/"
        },
        "id": "v4hyA21TDhzA",
        "outputId": "0c9868ac-441c-4bd3-b4e8-e0d6dd625296"
      },
      "execution_count": null,
      "outputs": [
        {
          "output_type": "stream",
          "name": "stdout",
          "text": [
            "Epoch 1/10\n",
            "1000/1000 [==============================] - 7s 6ms/step - loss: 0.3678 - accuracy: 0.8535 - val_loss: 0.2523 - val_accuracy: 0.9010 - lr: 0.0010\n",
            "Epoch 2/10\n",
            "1000/1000 [==============================] - 5s 5ms/step - loss: 0.2514 - accuracy: 0.9114 - val_loss: 0.2777 - val_accuracy: 0.8898 - lr: 0.0010\n",
            "Epoch 3/10\n",
            " 994/1000 [============================>.] - ETA: 0s - loss: 0.2219 - accuracy: 0.9246\n",
            "Epoch 00003: ReduceLROnPlateau reducing learning rate to 0.0005000000237487257.\n",
            "1000/1000 [==============================] - 6s 6ms/step - loss: 0.2219 - accuracy: 0.9245 - val_loss: 0.2668 - val_accuracy: 0.9020 - lr: 0.0010\n",
            "Epoch 4/10\n",
            "1000/1000 [==============================] - 5s 5ms/step - loss: 0.1857 - accuracy: 0.9394 - val_loss: 0.2960 - val_accuracy: 0.9013 - lr: 5.0000e-04\n",
            "Epoch 5/10\n",
            " 991/1000 [============================>.] - ETA: 0s - loss: 0.1729 - accuracy: 0.9466\n",
            "Epoch 00005: ReduceLROnPlateau reducing learning rate to 0.0002500000118743628.\n",
            "1000/1000 [==============================] - 5s 5ms/step - loss: 0.1728 - accuracy: 0.9467 - val_loss: 0.3071 - val_accuracy: 0.9029 - lr: 5.0000e-04\n",
            "Epoch 6/10\n",
            "1000/1000 [==============================] - 5s 5ms/step - loss: 0.1545 - accuracy: 0.9542 - val_loss: 0.3407 - val_accuracy: 0.8988 - lr: 2.5000e-04\n"
          ]
        }
      ]
    },
    {
      "cell_type": "code",
      "source": [
        "model_2.evaluate(test_x, test_y)"
      ],
      "metadata": {
        "colab": {
          "base_uri": "https://localhost:8080/"
        },
        "id": "b6LbHe5vNMtW",
        "outputId": "ef4cc53b-3218-4d87-dbed-18e805bb159e"
      },
      "execution_count": null,
      "outputs": [
        {
          "output_type": "stream",
          "name": "stdout",
          "text": [
            "313/313 [==============================] - 1s 4ms/step - loss: 0.3862 - accuracy: 0.8948\n"
          ]
        },
        {
          "output_type": "execute_result",
          "data": {
            "text/plain": [
              "[0.38623660802841187, 0.8948000073432922]"
            ]
          },
          "metadata": {},
          "execution_count": 21
        }
      ]
    },
    {
      "cell_type": "markdown",
      "source": [
        "Batch_size = 128"
      ],
      "metadata": {
        "id": "SirbDlsgASst"
      }
    },
    {
      "cell_type": "code",
      "source": [
        "model_2.compile(\n",
        " optimizer = \"adam\",\n",
        " loss = \"binary_crossentropy\",\n",
        " metrics = [\"accuracy\"]\n",
        ")"
      ],
      "metadata": {
        "id": "6fLAh_Boy0aK"
      },
      "execution_count": null,
      "outputs": []
    },
    {
      "cell_type": "code",
      "source": [
        "results = model_2.fit(\n",
        " train_x, train_y,\n",
        " epochs=10,\n",
        " batch_size = 128,\n",
        " validation_split = 0.2,\n",
        " callbacks = [early_stop_val_loss_callback,\n",
        "              reduce_lr_callback_depends_on_val_loss]\n",
        "      )"
      ],
      "metadata": {
        "id": "-ErVedSKy0dB",
        "colab": {
          "base_uri": "https://localhost:8080/"
        },
        "outputId": "11672776-d5a0-44df-8a46-9fca71952d2b"
      },
      "execution_count": null,
      "outputs": [
        {
          "output_type": "stream",
          "name": "stdout",
          "text": [
            "Epoch 1/10\n",
            "250/250 [==============================] - 3s 9ms/step - loss: 0.0259 - accuracy: 0.9923 - val_loss: 0.8395 - val_accuracy: 0.8894 - lr: 0.0010\n",
            "Epoch 2/10\n",
            "250/250 [==============================] - 2s 6ms/step - loss: 0.0247 - accuracy: 0.9935 - val_loss: 0.8664 - val_accuracy: 0.8840 - lr: 0.0010\n",
            "Epoch 3/10\n",
            "244/250 [============================>.] - ETA: 0s - loss: 0.0172 - accuracy: 0.9947\n",
            "Epoch 00003: ReduceLROnPlateau reducing learning rate to 0.0005000000237487257.\n",
            "250/250 [==============================] - 2s 7ms/step - loss: 0.0172 - accuracy: 0.9948 - val_loss: 0.9797 - val_accuracy: 0.8874 - lr: 0.0010\n",
            "Epoch 4/10\n",
            "250/250 [==============================] - 2s 6ms/step - loss: 0.0145 - accuracy: 0.9958 - val_loss: 1.0314 - val_accuracy: 0.8859 - lr: 5.0000e-04\n",
            "Epoch 5/10\n",
            "241/250 [===========================>..] - ETA: 0s - loss: 0.0117 - accuracy: 0.9962\n",
            "Epoch 00005: ReduceLROnPlateau reducing learning rate to 0.0002500000118743628.\n",
            "250/250 [==============================] - 2s 6ms/step - loss: 0.0118 - accuracy: 0.9961 - val_loss: 1.0843 - val_accuracy: 0.8890 - lr: 5.0000e-04\n",
            "Epoch 6/10\n",
            "250/250 [==============================] - 2s 6ms/step - loss: 0.0109 - accuracy: 0.9961 - val_loss: 1.1157 - val_accuracy: 0.8861 - lr: 2.5000e-04\n"
          ]
        }
      ]
    },
    {
      "cell_type": "code",
      "source": [
        "model_2.evaluate(test_x, test_y)"
      ],
      "metadata": {
        "colab": {
          "base_uri": "https://localhost:8080/"
        },
        "id": "_oM1JRZ6Ot2I",
        "outputId": "462084f4-fd52-4695-e9c9-aef155763223"
      },
      "execution_count": null,
      "outputs": [
        {
          "output_type": "stream",
          "name": "stdout",
          "text": [
            "313/313 [==============================] - 1s 4ms/step - loss: 1.2436 - accuracy: 0.8786\n"
          ]
        },
        {
          "output_type": "execute_result",
          "data": {
            "text/plain": [
              "[1.2436144351959229, 0.878600001335144]"
            ]
          },
          "metadata": {},
          "execution_count": 26
        }
      ]
    },
    {
      "cell_type": "markdown",
      "source": [
        "Batch_size = 8"
      ],
      "metadata": {
        "id": "f8UutmnRArMV"
      }
    },
    {
      "cell_type": "code",
      "source": [
        "model_2.compile(\n",
        " optimizer = \"adam\",\n",
        " loss = \"binary_crossentropy\",\n",
        " metrics = [\"accuracy\"]\n",
        ")"
      ],
      "metadata": {
        "id": "klwZZNnTAaat"
      },
      "execution_count": null,
      "outputs": []
    },
    {
      "cell_type": "code",
      "source": [
        "results = model_2.fit(\n",
        " train_x, train_y,\n",
        " epochs=10,\n",
        " batch_size = 8,\n",
        " validation_split = 0.2,\n",
        " callbacks = [early_stop_val_loss_callback,\n",
        "              reduce_lr_callback_depends_on_val_loss]\n",
        "      )"
      ],
      "metadata": {
        "colab": {
          "base_uri": "https://localhost:8080/"
        },
        "id": "zJ3T2fiyAade",
        "outputId": "a4e51ae5-82f8-4065-ccdd-0d791d7e08d2"
      },
      "execution_count": null,
      "outputs": [
        {
          "output_type": "stream",
          "name": "stdout",
          "text": [
            "Epoch 1/10\n",
            "4000/4000 [==============================] - 18s 4ms/step - loss: 0.3534 - accuracy: 0.8555 - val_loss: 0.2580 - val_accuracy: 0.8941 - lr: 0.0010\n",
            "Epoch 2/10\n",
            "4000/4000 [==============================] - 16s 4ms/step - loss: 0.2270 - accuracy: 0.9157 - val_loss: 0.2701 - val_accuracy: 0.8932 - lr: 0.0010\n",
            "Epoch 3/10\n",
            "3993/4000 [============================>.] - ETA: 0s - loss: 0.1556 - accuracy: 0.9449\n",
            "Epoch 00003: ReduceLROnPlateau reducing learning rate to 0.0005000000237487257.\n",
            "4000/4000 [==============================] - 17s 4ms/step - loss: 0.1555 - accuracy: 0.9449 - val_loss: 0.3092 - val_accuracy: 0.8910 - lr: 0.0010\n",
            "Epoch 4/10\n",
            "4000/4000 [==============================] - 17s 4ms/step - loss: 0.0822 - accuracy: 0.9742 - val_loss: 0.4646 - val_accuracy: 0.8935 - lr: 5.0000e-04\n",
            "Epoch 5/10\n",
            "3992/4000 [============================>.] - ETA: 0s - loss: 0.0483 - accuracy: 0.9855\n",
            "Epoch 00005: ReduceLROnPlateau reducing learning rate to 0.0002500000118743628.\n",
            "4000/4000 [==============================] - 16s 4ms/step - loss: 0.0482 - accuracy: 0.9856 - val_loss: 0.6330 - val_accuracy: 0.8900 - lr: 5.0000e-04\n",
            "Epoch 6/10\n",
            "4000/4000 [==============================] - 16s 4ms/step - loss: 0.0370 - accuracy: 0.9901 - val_loss: 0.7416 - val_accuracy: 0.8879 - lr: 2.5000e-04\n"
          ]
        }
      ]
    },
    {
      "cell_type": "code",
      "source": [
        "model_2.evaluate(test_x, test_y)"
      ],
      "metadata": {
        "colab": {
          "base_uri": "https://localhost:8080/"
        },
        "id": "lGMf8b9oUDMX",
        "outputId": "277ebe1c-a6cf-4d8f-bb28-ec46669a1274"
      },
      "execution_count": null,
      "outputs": [
        {
          "output_type": "stream",
          "name": "stdout",
          "text": [
            "313/313 [==============================] - 1s 4ms/step - loss: 0.8219 - accuracy: 0.8814\n"
          ]
        },
        {
          "output_type": "execute_result",
          "data": {
            "text/plain": [
              "[0.8218934535980225, 0.8813999891281128]"
            ]
          },
          "metadata": {},
          "execution_count": 15
        }
      ]
    },
    {
      "cell_type": "markdown",
      "source": [
        "Activation softmax"
      ],
      "metadata": {
        "id": "lkwqOfVpBEOb"
      }
    },
    {
      "cell_type": "code",
      "source": [
        "model_2 = models.Sequential()\n",
        "# Input - Layer\n",
        "model_2.add(layers.Dense(64, activation = \"relu\", input_shape=(10000, )))\n",
        "# Hidden - Layers\n",
        "model_2.add(layers.Dropout(0.2, noise_shape=None, seed=None))\n",
        "model_2.add(layers.Dense(32, activation = \"relu\"))\n",
        "model_2.add(layers.Dropout(0.2, noise_shape=None, seed=None))\n",
        "model_2.add(layers.Dense(16, activation = \"relu\"))\n",
        "model_2.add(layers.Dropout(0.4, noise_shape=None, seed=None))\n",
        "# Output- Layer\n",
        "model_2.add(layers.Dense(1, activation = \"softmax\"))\n",
        "model_2.summary()"
      ],
      "metadata": {
        "colab": {
          "base_uri": "https://localhost:8080/"
        },
        "id": "g7an9ZC0Aagc",
        "outputId": "312ab859-beba-4816-f83d-4dbb14631458"
      },
      "execution_count": null,
      "outputs": [
        {
          "output_type": "stream",
          "name": "stdout",
          "text": [
            "Model: \"sequential_1\"\n",
            "_________________________________________________________________\n",
            " Layer (type)                Output Shape              Param #   \n",
            "=================================================================\n",
            " dense_8 (Dense)             (None, 64)                640064    \n",
            "                                                                 \n",
            " dropout_6 (Dropout)         (None, 64)                0         \n",
            "                                                                 \n",
            " dense_9 (Dense)             (None, 32)                2080      \n",
            "                                                                 \n",
            " dropout_7 (Dropout)         (None, 32)                0         \n",
            "                                                                 \n",
            " dense_10 (Dense)            (None, 16)                528       \n",
            "                                                                 \n",
            " dropout_8 (Dropout)         (None, 16)                0         \n",
            "                                                                 \n",
            " dense_11 (Dense)            (None, 1)                 17        \n",
            "                                                                 \n",
            "=================================================================\n",
            "Total params: 642,689\n",
            "Trainable params: 642,689\n",
            "Non-trainable params: 0\n",
            "_________________________________________________________________\n"
          ]
        }
      ]
    },
    {
      "cell_type": "code",
      "source": [
        "model_2.compile(\n",
        " optimizer = \"adam\",\n",
        " loss = \"binary_crossentropy\",\n",
        " metrics = [\"accuracy\"]\n",
        ")"
      ],
      "metadata": {
        "id": "LjMobM6JAaje"
      },
      "execution_count": null,
      "outputs": []
    },
    {
      "cell_type": "code",
      "source": [
        "results = model_2.fit(\n",
        " train_x, train_y,\n",
        " epochs=10,\n",
        " batch_size = 32,\n",
        " validation_split = 0.2,\n",
        " callbacks = [early_stop_val_loss_callback,\n",
        "              reduce_lr_callback_depends_on_val_loss]\n",
        "      )"
      ],
      "metadata": {
        "colab": {
          "base_uri": "https://localhost:8080/"
        },
        "id": "J4XT3dPEAamX",
        "outputId": "8027fd18-f502-4633-d5b3-c2529b2939ce"
      },
      "execution_count": null,
      "outputs": [
        {
          "output_type": "stream",
          "name": "stdout",
          "text": [
            "Epoch 1/10\n",
            "1000/1000 [==============================] - 6s 5ms/step - loss: 0.3576 - accuracy: 0.4965 - val_loss: 0.2556 - val_accuracy: 0.5075 - lr: 0.0010\n",
            "Epoch 2/10\n",
            "1000/1000 [==============================] - 5s 5ms/step - loss: 0.2141 - accuracy: 0.4965 - val_loss: 0.2685 - val_accuracy: 0.5075 - lr: 0.0010\n",
            "Epoch 3/10\n",
            " 997/1000 [============================>.] - ETA: 0s - loss: 0.1470 - accuracy: 0.4966\n",
            "Epoch 00003: ReduceLROnPlateau reducing learning rate to 0.0005000000237487257.\n",
            "1000/1000 [==============================] - 5s 5ms/step - loss: 0.1470 - accuracy: 0.4965 - val_loss: 0.3078 - val_accuracy: 0.5075 - lr: 0.0010\n",
            "Epoch 4/10\n",
            "1000/1000 [==============================] - 5s 5ms/step - loss: 0.0704 - accuracy: 0.4965 - val_loss: 0.4048 - val_accuracy: 0.5075 - lr: 5.0000e-04\n",
            "Epoch 5/10\n",
            " 999/1000 [============================>.] - ETA: 0s - loss: 0.0415 - accuracy: 0.4964\n",
            "Epoch 00005: ReduceLROnPlateau reducing learning rate to 0.0002500000118743628.\n",
            "1000/1000 [==============================] - 5s 5ms/step - loss: 0.0416 - accuracy: 0.4965 - val_loss: 0.4922 - val_accuracy: 0.5075 - lr: 5.0000e-04\n",
            "Epoch 6/10\n",
            "1000/1000 [==============================] - 5s 5ms/step - loss: 0.0245 - accuracy: 0.4965 - val_loss: 0.6046 - val_accuracy: 0.5075 - lr: 2.5000e-04\n"
          ]
        }
      ]
    },
    {
      "cell_type": "code",
      "source": [
        "model_2.evaluate(test_x, test_y)"
      ],
      "metadata": {
        "colab": {
          "base_uri": "https://localhost:8080/"
        },
        "id": "0xiWDjg9VRBP",
        "outputId": "e902e0a8-ca68-400e-a3a1-41a46336b3bd"
      },
      "execution_count": null,
      "outputs": [
        {
          "output_type": "stream",
          "name": "stdout",
          "text": [
            "313/313 [==============================] - 1s 4ms/step - loss: 0.6887 - accuracy: 0.5053\n"
          ]
        },
        {
          "output_type": "execute_result",
          "data": {
            "text/plain": [
              "[0.68873530626297, 0.505299985408783]"
            ]
          },
          "metadata": {},
          "execution_count": 23
        }
      ]
    },
    {
      "cell_type": "markdown",
      "source": [
        "activation = tanh"
      ],
      "metadata": {
        "id": "K0IzHbzOB7j0"
      }
    },
    {
      "cell_type": "code",
      "source": [
        "model_2 = models.Sequential()\n",
        "# Input - Layer\n",
        "model_2.add(layers.Dense(64, activation = \"relu\", input_shape=(10000, )))\n",
        "# Hidden - Layers\n",
        "model_2.add(layers.Dropout(0.2, noise_shape=None, seed=None))\n",
        "model_2.add(layers.Dense(32, activation = \"relu\"))\n",
        "model_2.add(layers.Dropout(0.2, noise_shape=None, seed=None))\n",
        "model_2.add(layers.Dense(16, activation = \"relu\"))\n",
        "model_2.add(layers.Dropout(0.4, noise_shape=None, seed=None))\n",
        "# Output- Layer\n",
        "model_2.add(layers.Dense(1, activation = \"tanh\"))\n",
        "model_2.summary()"
      ],
      "metadata": {
        "colab": {
          "base_uri": "https://localhost:8080/"
        },
        "id": "0HWX4N-NAapC",
        "outputId": "bc59378e-f3d4-40d8-a164-9ecf02b20f0a"
      },
      "execution_count": null,
      "outputs": [
        {
          "output_type": "stream",
          "name": "stdout",
          "text": [
            "Model: \"sequential\"\n",
            "_________________________________________________________________\n",
            " Layer (type)                Output Shape              Param #   \n",
            "=================================================================\n",
            " dense (Dense)               (None, 64)                640064    \n",
            "                                                                 \n",
            " dropout (Dropout)           (None, 64)                0         \n",
            "                                                                 \n",
            " dense_1 (Dense)             (None, 32)                2080      \n",
            "                                                                 \n",
            " dropout_1 (Dropout)         (None, 32)                0         \n",
            "                                                                 \n",
            " dense_2 (Dense)             (None, 16)                528       \n",
            "                                                                 \n",
            " dropout_2 (Dropout)         (None, 16)                0         \n",
            "                                                                 \n",
            " dense_3 (Dense)             (None, 1)                 17        \n",
            "                                                                 \n",
            "=================================================================\n",
            "Total params: 642,689\n",
            "Trainable params: 642,689\n",
            "Non-trainable params: 0\n",
            "_________________________________________________________________\n"
          ]
        }
      ]
    },
    {
      "cell_type": "code",
      "source": [
        "model_2.compile(\n",
        " optimizer = \"adam\",\n",
        " loss = \"binary_crossentropy\",\n",
        " metrics = [\"accuracy\"]\n",
        ")"
      ],
      "metadata": {
        "id": "WfBm_lAaB8RT"
      },
      "execution_count": null,
      "outputs": []
    },
    {
      "cell_type": "code",
      "source": [
        "results = model_2.fit(\n",
        " train_x, train_y,\n",
        " epochs=10,\n",
        " batch_size = 32,\n",
        " validation_split = 0.2,\n",
        " callbacks = [early_stop_val_loss_callback,\n",
        "              reduce_lr_callback_depends_on_val_loss]\n",
        "      )"
      ],
      "metadata": {
        "colab": {
          "base_uri": "https://localhost:8080/"
        },
        "id": "0i6s6RfAB8T0",
        "outputId": "6bb06893-5827-4178-9444-c55fb693f1a1"
      },
      "execution_count": null,
      "outputs": [
        {
          "output_type": "stream",
          "name": "stdout",
          "text": [
            "Epoch 1/10\n",
            "1000/1000 [==============================] - 9s 7ms/step - loss: 0.4922 - accuracy: 0.8107 - val_loss: 0.2734 - val_accuracy: 0.8889 - lr: 0.0010\n",
            "Epoch 2/10\n",
            "1000/1000 [==============================] - 6s 6ms/step - loss: 0.2890 - accuracy: 0.9076 - val_loss: 0.3001 - val_accuracy: 0.8886 - lr: 0.0010\n",
            "Epoch 3/10\n",
            " 990/1000 [============================>.] - ETA: 0s - loss: 0.2440 - accuracy: 0.9308\n",
            "Epoch 00003: ReduceLROnPlateau reducing learning rate to 0.0005000000237487257.\n",
            "1000/1000 [==============================] - 7s 7ms/step - loss: 0.2433 - accuracy: 0.9308 - val_loss: 0.4019 - val_accuracy: 0.8928 - lr: 0.0010\n",
            "Epoch 4/10\n",
            "1000/1000 [==============================] - 6s 6ms/step - loss: 0.1685 - accuracy: 0.9623 - val_loss: 0.5419 - val_accuracy: 0.8875 - lr: 5.0000e-04\n",
            "Epoch 5/10\n",
            " 998/1000 [============================>.] - ETA: 0s - loss: 0.1265 - accuracy: 0.9770\n",
            "Epoch 00005: ReduceLROnPlateau reducing learning rate to 0.0002500000118743628.\n",
            "1000/1000 [==============================] - 5s 5ms/step - loss: 0.1263 - accuracy: 0.9771 - val_loss: 0.7893 - val_accuracy: 0.8860 - lr: 5.0000e-04\n",
            "Epoch 6/10\n",
            "1000/1000 [==============================] - 5s 5ms/step - loss: 0.0918 - accuracy: 0.9868 - val_loss: 0.7959 - val_accuracy: 0.8875 - lr: 2.5000e-04\n"
          ]
        }
      ]
    },
    {
      "cell_type": "code",
      "source": [
        "model_2.evaluate(test_x, test_y)"
      ],
      "metadata": {
        "id": "ihoYY9_cB8WC",
        "colab": {
          "base_uri": "https://localhost:8080/"
        },
        "outputId": "4398e38d-985a-4134-ecbe-121bcacf8151"
      },
      "execution_count": null,
      "outputs": [
        {
          "output_type": "stream",
          "name": "stdout",
          "text": [
            "313/313 [==============================] - 2s 7ms/step - loss: 0.8483 - accuracy: 0.8812\n"
          ]
        },
        {
          "output_type": "execute_result",
          "data": {
            "text/plain": [
              "[0.8482945561408997, 0.8812000155448914]"
            ]
          },
          "metadata": {},
          "execution_count": 12
        }
      ]
    },
    {
      "cell_type": "code",
      "source": [
        ""
      ],
      "metadata": {
        "id": "qYxSRYwwXcwB"
      },
      "execution_count": null,
      "outputs": []
    },
    {
      "cell_type": "markdown",
      "source": [
        "Learning rate = 0.01"
      ],
      "metadata": {
        "id": "N1OotKhbXkYG"
      }
    },
    {
      "cell_type": "code",
      "source": [
        "model_2.compile(\n",
        " optimizer = \"adam\",\n",
        " loss = \"binary_crossentropy\",\n",
        " metrics = [\"accuracy\"]\n",
        ")"
      ],
      "metadata": {
        "id": "lwE6cMT5Xn0k"
      },
      "execution_count": 19,
      "outputs": []
    },
    {
      "cell_type": "code",
      "source": [
        "from keras import backend as K\n",
        "K.set_value(model_2.optimizer.learning_rate, 0.01)"
      ],
      "metadata": {
        "id": "27nMdaXR5OEE"
      },
      "execution_count": 14,
      "outputs": []
    },
    {
      "cell_type": "code",
      "source": [
        "results = model_2.fit(\n",
        " train_x, train_y,\n",
        " epochs=20,\n",
        " batch_size = 32,\n",
        " validation_split = 0.2,\n",
        " callbacks = [early_stop_val_loss_callback,\n",
        "              reduce_lr_callback_depends_on_val_loss]\n",
        "      )"
      ],
      "metadata": {
        "colab": {
          "base_uri": "https://localhost:8080/"
        },
        "id": "WprmK9nrXp_f",
        "outputId": "0f9fd228-b52d-44b4-c301-fe6e4a56e780"
      },
      "execution_count": 21,
      "outputs": [
        {
          "output_type": "stream",
          "name": "stdout",
          "text": [
            "Epoch 1/20\n",
            "1000/1000 [==============================] - 6s 5ms/step - loss: 0.3761 - accuracy: 0.8454 - val_loss: 0.2629 - val_accuracy: 0.8934 - lr: 0.0100\n",
            "Epoch 2/20\n",
            "1000/1000 [==============================] - 4s 4ms/step - loss: 0.2571 - accuracy: 0.9043 - val_loss: 0.2749 - val_accuracy: 0.8900 - lr: 0.0100\n",
            "Epoch 3/20\n",
            " 997/1000 [============================>.] - ETA: 0s - loss: 0.2072 - accuracy: 0.9216\n",
            "Epoch 00003: ReduceLROnPlateau reducing learning rate to 0.004999999888241291.\n",
            "1000/1000 [==============================] - 4s 4ms/step - loss: 0.2072 - accuracy: 0.9216 - val_loss: 0.2907 - val_accuracy: 0.8924 - lr: 0.0100\n",
            "Epoch 4/20\n",
            "1000/1000 [==============================] - 4s 4ms/step - loss: 0.1479 - accuracy: 0.9491 - val_loss: 0.3916 - val_accuracy: 0.8856 - lr: 0.0050\n",
            "Epoch 5/20\n",
            " 994/1000 [============================>.] - ETA: 0s - loss: 0.1128 - accuracy: 0.9605\n",
            "Epoch 00005: ReduceLROnPlateau reducing learning rate to 0.0024999999441206455.\n",
            "1000/1000 [==============================] - 5s 5ms/step - loss: 0.1128 - accuracy: 0.9604 - val_loss: 0.4731 - val_accuracy: 0.8876 - lr: 0.0050\n",
            "Epoch 6/20\n",
            "1000/1000 [==============================] - 5s 5ms/step - loss: 0.0840 - accuracy: 0.9702 - val_loss: 0.4929 - val_accuracy: 0.8855 - lr: 0.0025\n"
          ]
        }
      ]
    },
    {
      "cell_type": "code",
      "source": [
        "model_2.evaluate(test_x, test_y)"
      ],
      "metadata": {
        "id": "QoJMcjNAXryO",
        "colab": {
          "base_uri": "https://localhost:8080/"
        },
        "outputId": "1e742517-b181-4218-a905-2cc74527b7db"
      },
      "execution_count": 22,
      "outputs": [
        {
          "output_type": "stream",
          "name": "stdout",
          "text": [
            "313/313 [==============================] - 1s 4ms/step - loss: 0.5646 - accuracy: 0.8833\n"
          ]
        },
        {
          "output_type": "execute_result",
          "data": {
            "text/plain": [
              "[0.564601719379425, 0.8833000063896179]"
            ]
          },
          "metadata": {},
          "execution_count": 22
        }
      ]
    },
    {
      "cell_type": "code",
      "source": [
        "plot_history(results)"
      ],
      "metadata": {
        "id": "zv2dIBsuXr0l",
        "colab": {
          "base_uri": "https://localhost:8080/",
          "height": 406
        },
        "outputId": "a536bc69-fbbc-4012-eccf-5b8d4bf51706"
      },
      "execution_count": 23,
      "outputs": [
        {
          "output_type": "display_data",
          "data": {
            "image/png": "[encoded data removed]",
            "text/plain": [
              "<Figure size 1152x432 with 2 Axes>"
            ]
          },
          "metadata": {
            "needs_background": "light"
          }
        }
      ]
    },
    {
      "cell_type": "markdown",
      "source": [
        "Learning rate = 0.0001"
      ],
      "metadata": {
        "id": "NPPSaIi8-2RH"
      }
    },
    {
      "cell_type": "code",
      "source": [
        "model_2.compile(\n",
        " optimizer = \"adam\",\n",
        " loss = \"binary_crossentropy\",\n",
        " metrics = [\"accuracy\"]\n",
        ")"
      ],
      "metadata": {
        "id": "_a9cx-6Q-6Gr"
      },
      "execution_count": 13,
      "outputs": []
    },
    {
      "cell_type": "code",
      "source": [
        "K.set_value(model_2.optimizer.learning_rate, 0.0001)"
      ],
      "metadata": {
        "id": "M5GoHN4UXr3M"
      },
      "execution_count": 15,
      "outputs": []
    },
    {
      "cell_type": "code",
      "source": [
        "results = model_2.fit(\n",
        " train_x, train_y,\n",
        " epochs=20,\n",
        " batch_size = 32,\n",
        " validation_split = 0.2,\n",
        " callbacks = [early_stop_val_loss_callback,\n",
        "              reduce_lr_callback_depends_on_val_loss]\n",
        "      )"
      ],
      "metadata": {
        "colab": {
          "base_uri": "https://localhost:8080/"
        },
        "id": "FyejM1Mj--e7",
        "outputId": "6f138199-a953-47c8-94ba-85898f9367c8"
      },
      "execution_count": 16,
      "outputs": [
        {
          "output_type": "stream",
          "name": "stdout",
          "text": [
            "Epoch 1/20\n",
            "1000/1000 [==============================] - 6s 5ms/step - loss: 0.5085 - accuracy: 0.7583 - val_loss: 0.2936 - val_accuracy: 0.8947 - lr: 1.0000e-04\n",
            "Epoch 2/20\n",
            "1000/1000 [==============================] - 5s 5ms/step - loss: 0.3002 - accuracy: 0.8913 - val_loss: 0.2534 - val_accuracy: 0.9010 - lr: 1.0000e-04\n",
            "Epoch 3/20\n",
            "1000/1000 [==============================] - 5s 5ms/step - loss: 0.2341 - accuracy: 0.9193 - val_loss: 0.2537 - val_accuracy: 0.8979 - lr: 1.0000e-04\n",
            "Epoch 4/20\n",
            " 999/1000 [============================>.] - ETA: 0s - loss: 0.1940 - accuracy: 0.9341\n",
            "Epoch 00004: ReduceLROnPlateau reducing learning rate to 4.999999873689376e-05.\n",
            "1000/1000 [==============================] - 5s 5ms/step - loss: 0.1939 - accuracy: 0.9342 - val_loss: 0.2609 - val_accuracy: 0.9003 - lr: 1.0000e-04\n",
            "Epoch 5/20\n",
            "1000/1000 [==============================] - 5s 5ms/step - loss: 0.1487 - accuracy: 0.9534 - val_loss: 0.2769 - val_accuracy: 0.9003 - lr: 5.0000e-05\n",
            "Epoch 6/20\n",
            " 992/1000 [============================>.] - ETA: 0s - loss: 0.1316 - accuracy: 0.9596\n",
            "Epoch 00006: ReduceLROnPlateau reducing learning rate to 2.499999936844688e-05.\n",
            "1000/1000 [==============================] - 5s 5ms/step - loss: 0.1315 - accuracy: 0.9596 - val_loss: 0.2829 - val_accuracy: 0.8989 - lr: 5.0000e-05\n",
            "Epoch 7/20\n",
            "1000/1000 [==============================] - 5s 5ms/step - loss: 0.1110 - accuracy: 0.9681 - val_loss: 0.2963 - val_accuracy: 0.8995 - lr: 2.5000e-05\n"
          ]
        }
      ]
    },
    {
      "cell_type": "code",
      "source": [
        "model_2.evaluate(test_x, test_y)"
      ],
      "metadata": {
        "colab": {
          "base_uri": "https://localhost:8080/"
        },
        "id": "qErxZuby--zk",
        "outputId": "56f8c665-d552-4c71-a2b3-bb67a9878a7d"
      },
      "execution_count": 17,
      "outputs": [
        {
          "output_type": "stream",
          "name": "stdout",
          "text": [
            "313/313 [==============================] - 1s 4ms/step - loss: 0.3259 - accuracy: 0.8900\n"
          ]
        },
        {
          "output_type": "execute_result",
          "data": {
            "text/plain": [
              "[0.3258989155292511, 0.8899999856948853]"
            ]
          },
          "metadata": {},
          "execution_count": 17
        }
      ]
    },
    {
      "cell_type": "code",
      "source": [
        "plot_history(results)"
      ],
      "metadata": {
        "colab": {
          "base_uri": "https://localhost:8080/",
          "height": 406
        },
        "id": "vRXMa-XZ_JL6",
        "outputId": "c00eb0f1-e689-4eef-f8ef-5e0263b51093"
      },
      "execution_count": 18,
      "outputs": [
        {
          "output_type": "display_data",
          "data": {
            "image/png": "[encoded data removed]",
            "text/plain": [
              "<Figure size 1152x432 with 2 Axes>"
            ]
          },
          "metadata": {
            "needs_background": "light"
          }
        }
      ]
    },
    {
      "cell_type": "markdown",
      "source": [
        "Learning rate = 0.00001"
      ],
      "metadata": {
        "id": "zYIy0KkZAvJN"
      }
    },
    {
      "cell_type": "code",
      "source": [
        "model_2.compile(\n",
        " optimizer = \"adam\",\n",
        " loss = \"binary_crossentropy\",\n",
        " metrics = [\"accuracy\"]\n",
        ")"
      ],
      "metadata": {
        "id": "tFVICunzAum-"
      },
      "execution_count": 21,
      "outputs": []
    },
    {
      "cell_type": "code",
      "source": [
        "K.set_value(model_2.optimizer.learning_rate, 0.00001)"
      ],
      "metadata": {
        "id": "QxRooElf_Kz_"
      },
      "execution_count": 22,
      "outputs": []
    },
    {
      "cell_type": "code",
      "source": [
        "results = model_2.fit(\n",
        " train_x, train_y,\n",
        " epochs=20,\n",
        " batch_size = 32,\n",
        " validation_split = 0.2,\n",
        " callbacks = [early_stop_val_loss_callback,\n",
        "              reduce_lr_callback_depends_on_val_loss]\n",
        "      )"
      ],
      "metadata": {
        "colab": {
          "base_uri": "https://localhost:8080/"
        },
        "id": "bo1WwsR1A3BF",
        "outputId": "e3eef361-50e9-4bf2-810b-16d8fde4a5ef"
      },
      "execution_count": 23,
      "outputs": [
        {
          "output_type": "stream",
          "name": "stdout",
          "text": [
            "Epoch 1/20\n",
            "1000/1000 [==============================] - 5s 5ms/step - loss: 0.6899 - accuracy: 0.5296 - val_loss: 0.6826 - val_accuracy: 0.6111 - lr: 1.0000e-05\n",
            "Epoch 2/20\n",
            "1000/1000 [==============================] - 4s 4ms/step - loss: 0.6709 - accuracy: 0.6089 - val_loss: 0.6453 - val_accuracy: 0.7444 - lr: 1.0000e-05\n",
            "Epoch 3/20\n",
            "1000/1000 [==============================] - 4s 4ms/step - loss: 0.6320 - accuracy: 0.6862 - val_loss: 0.5880 - val_accuracy: 0.8221 - lr: 1.0000e-05\n",
            "Epoch 4/20\n",
            "1000/1000 [==============================] - 5s 5ms/step - loss: 0.5837 - accuracy: 0.7339 - val_loss: 0.5275 - val_accuracy: 0.8512 - lr: 1.0000e-05\n",
            "Epoch 5/20\n",
            "1000/1000 [==============================] - 6s 6ms/step - loss: 0.5368 - accuracy: 0.7688 - val_loss: 0.4716 - val_accuracy: 0.8654 - lr: 1.0000e-05\n",
            "Epoch 6/20\n",
            "1000/1000 [==============================] - 6s 6ms/step - loss: 0.4947 - accuracy: 0.7943 - val_loss: 0.4258 - val_accuracy: 0.8749 - lr: 1.0000e-05\n",
            "Epoch 7/20\n",
            "1000/1000 [==============================] - 5s 5ms/step - loss: 0.4603 - accuracy: 0.8133 - val_loss: 0.3899 - val_accuracy: 0.8835 - lr: 1.0000e-05\n",
            "Epoch 8/20\n",
            "1000/1000 [==============================] - 5s 5ms/step - loss: 0.4263 - accuracy: 0.8286 - val_loss: 0.3580 - val_accuracy: 0.8878 - lr: 1.0000e-05\n",
            "Epoch 9/20\n",
            "1000/1000 [==============================] - 5s 5ms/step - loss: 0.4032 - accuracy: 0.8388 - val_loss: 0.3362 - val_accuracy: 0.8895 - lr: 1.0000e-05\n",
            "Epoch 10/20\n",
            "1000/1000 [==============================] - 5s 5ms/step - loss: 0.3806 - accuracy: 0.8503 - val_loss: 0.3179 - val_accuracy: 0.8930 - lr: 1.0000e-05\n",
            "Epoch 11/20\n",
            "1000/1000 [==============================] - 4s 4ms/step - loss: 0.3629 - accuracy: 0.8599 - val_loss: 0.3043 - val_accuracy: 0.8949 - lr: 1.0000e-05\n",
            "Epoch 12/20\n",
            "1000/1000 [==============================] - 5s 5ms/step - loss: 0.3403 - accuracy: 0.8713 - val_loss: 0.2907 - val_accuracy: 0.8967 - lr: 1.0000e-05\n",
            "Epoch 13/20\n",
            "1000/1000 [==============================] - 4s 4ms/step - loss: 0.3278 - accuracy: 0.8781 - val_loss: 0.2821 - val_accuracy: 0.8978 - lr: 1.0000e-05\n",
            "Epoch 14/20\n",
            "1000/1000 [==============================] - 5s 5ms/step - loss: 0.3160 - accuracy: 0.8829 - val_loss: 0.2738 - val_accuracy: 0.9006 - lr: 1.0000e-05\n",
            "Epoch 15/20\n",
            "1000/1000 [==============================] - 5s 5ms/step - loss: 0.3010 - accuracy: 0.8912 - val_loss: 0.2668 - val_accuracy: 0.9022 - lr: 1.0000e-05\n",
            "Epoch 16/20\n",
            "1000/1000 [==============================] - 5s 5ms/step - loss: 0.2917 - accuracy: 0.8958 - val_loss: 0.2618 - val_accuracy: 0.9036 - lr: 1.0000e-05\n",
            "Epoch 17/20\n",
            "1000/1000 [==============================] - 5s 5ms/step - loss: 0.2822 - accuracy: 0.9011 - val_loss: 0.2573 - val_accuracy: 0.9029 - lr: 1.0000e-05\n",
            "Epoch 18/20\n",
            "1000/1000 [==============================] - 5s 5ms/step - loss: 0.2718 - accuracy: 0.9032 - val_loss: 0.2541 - val_accuracy: 0.9043 - lr: 1.0000e-05\n",
            "Epoch 19/20\n",
            "1000/1000 [==============================] - 5s 5ms/step - loss: 0.2636 - accuracy: 0.9078 - val_loss: 0.2521 - val_accuracy: 0.9025 - lr: 1.0000e-05\n",
            "Epoch 20/20\n",
            "1000/1000 [==============================] - 5s 5ms/step - loss: 0.2556 - accuracy: 0.9113 - val_loss: 0.2496 - val_accuracy: 0.9053 - lr: 1.0000e-05\n"
          ]
        }
      ]
    },
    {
      "cell_type": "code",
      "source": [
        "model_2.evaluate(test_x, test_y)"
      ],
      "metadata": {
        "colab": {
          "base_uri": "https://localhost:8080/"
        },
        "id": "5XkX0-M8BBp2",
        "outputId": "114bf034-4c29-4e51-d772-b52831cc0fb7"
      },
      "execution_count": 24,
      "outputs": [
        {
          "output_type": "stream",
          "name": "stdout",
          "text": [
            "313/313 [==============================] - 1s 4ms/step - loss: 0.2663 - accuracy: 0.8965\n"
          ]
        },
        {
          "output_type": "execute_result",
          "data": {
            "text/plain": [
              "[0.2663388252258301, 0.8964999914169312]"
            ]
          },
          "metadata": {},
          "execution_count": 24
        }
      ]
    },
    {
      "cell_type": "code",
      "source": [
        "plot_history(results)"
      ],
      "metadata": {
        "colab": {
          "base_uri": "https://localhost:8080/",
          "height": 406
        },
        "id": "76i4r1MUBHeA",
        "outputId": "dbedb3f5-aada-4f7f-c2ee-36a7ebdd9ca3"
      },
      "execution_count": 25,
      "outputs": [
        {
          "output_type": "display_data",
          "data": {
            "image/png": "[encoded data removed]",
            "text/plain": [
              "<Figure size 1152x432 with 2 Axes>"
            ]
          },
          "metadata": {
            "needs_background": "light"
          }
        }
      ]
    },
    {
      "cell_type": "code",
      "source": [
        ""
      ],
      "metadata": {
        "id": "ALkEQe2rB1M6"
      },
      "execution_count": null,
      "outputs": []
    }
  ],
  "metadata": {
    "colab": {
      "collapsed_sections": [],
      "name": "FCN.ipynb",
      "provenance": []
    },
    "kernelspec": {
      "display_name": "Python 3",
      "name": "python3"
    },
    "language_info": {
      "name": "python"
    },
    "accelerator": "GPU"
  },
  "nbformat": 4,
  "nbformat_minor": 0
}